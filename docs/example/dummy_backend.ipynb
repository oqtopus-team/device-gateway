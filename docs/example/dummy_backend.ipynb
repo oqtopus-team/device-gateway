{
 "cells": [
  {
   "cell_type": "code",
   "execution_count": 13,
   "metadata": {},
   "outputs": [
    {
     "name": "stdout",
     "output_type": "stream",
     "text": [
      "Note: you may need to restart the kernel to use updated packages.\n"
     ]
    }
   ],
   "source": [
    "%pip install -q tranqu python-json-logger\n",
    "# %pip install -q git+https://github.com/softwareQinc/staq\n",
    "# %pip install ouqu-tp"
   ]
  },
  {
   "cell_type": "markdown",
   "metadata": {},
   "source": [
    "## Logging set up"
   ]
  },
  {
   "cell_type": "code",
   "execution_count": 14,
   "metadata": {},
   "outputs": [],
   "source": [
    "import sys\n",
    "import logging\n",
    "from pythonjsonlogger import jsonlogger\n",
    "\n",
    "class QubexFilter(logging.Filter):\n",
    "    def filter(self, record):\n",
    "        return record.name.startswith(\"qubex\")\n",
    "\n",
    "logger = logging.getLogger()\n",
    "logger.setLevel(logging.DEBUG)\n",
    "\n",
    "handler = logging.StreamHandler(sys.stdout)\n",
    "handler.setLevel(logging.DEBUG)\n",
    "\n",
    "log_format = '%(asctime)s %(name)s %(levelname)s %(message)s'\n",
    "formatter = jsonlogger.JsonFormatter(log_format)\n",
    "handler.setFormatter(formatter)\n",
    "\n",
    "handler.addFilter(QubexFilter())\n",
    "logger.addHandler(handler)"
   ]
  },
  {
   "cell_type": "markdown",
   "metadata": {},
   "source": [
    "## Generate device information from system note"
   ]
  },
  {
   "cell_type": "code",
   "execution_count": 15,
   "metadata": {},
   "outputs": [
    {
     "name": "stdout",
     "output_type": "stream",
     "text": [
      "{\"asctime\": \"2025-02-10 12:34:33,652\", \"name\": \"qubex_server.tool.device_info_generator\", \"levelname\": \"INFO\", \"message\": \"Physical node 0 not available in the real machine.\"}\n",
      "{\"asctime\": \"2025-02-10 12:34:33,652\", \"name\": \"qubex_server.tool.device_info_generator\", \"levelname\": \"INFO\", \"message\": \"Physical node 0 not available in the real machine.\"}\n",
      "{\"asctime\": \"2025-02-10 12:34:33,653\", \"name\": \"qubex_server.tool.device_info_generator\", \"levelname\": \"INFO\", \"message\": \"Physical node 2 not available in the real machine.\"}\n",
      "{\"asctime\": \"2025-02-10 12:34:33,653\", \"name\": \"qubex_server.tool.device_info_generator\", \"levelname\": \"INFO\", \"message\": \"Physical node 2 not available in the real machine.\"}\n",
      "{\"asctime\": \"2025-02-10 12:34:33,654\", \"name\": \"qubex_server.tool.device_info_generator\", \"levelname\": \"INFO\", \"message\": \"Physical node 1 not available in the real machine.\"}\n",
      "{\"asctime\": \"2025-02-10 12:34:33,654\", \"name\": \"qubex_server.tool.device_info_generator\", \"levelname\": \"INFO\", \"message\": \"Physical node 1 not available in the real machine.\"}\n",
      "{\"asctime\": \"2025-02-10 12:34:33,655\", \"name\": \"qubex_server.tool.device_info_generator\", \"levelname\": \"INFO\", \"message\": \"Physical node 3 not available in the real machine.\"}\n",
      "{\"asctime\": \"2025-02-10 12:34:33,655\", \"name\": \"qubex_server.tool.device_info_generator\", \"levelname\": \"INFO\", \"message\": \"Physical node 3 not available in the real machine.\"}\n",
      "{\"asctime\": \"2025-02-10 12:34:33,655\", \"name\": \"qubex_server.tool.device_info_generator\", \"levelname\": \"INFO\", \"message\": \"Physical node 4 not available in the real machine.\"}\n",
      "{\"asctime\": \"2025-02-10 12:34:33,655\", \"name\": \"qubex_server.tool.device_info_generator\", \"levelname\": \"INFO\", \"message\": \"Physical node 4 not available in the real machine.\"}\n",
      "{\"asctime\": \"2025-02-10 12:34:33,656\", \"name\": \"qubex_server.tool.device_info_generator\", \"levelname\": \"INFO\", \"message\": \"Physical node 6 not available in the real machine.\"}\n",
      "{\"asctime\": \"2025-02-10 12:34:33,656\", \"name\": \"qubex_server.tool.device_info_generator\", \"levelname\": \"INFO\", \"message\": \"Physical node 6 not available in the real machine.\"}\n",
      "{\"asctime\": \"2025-02-10 12:34:33,656\", \"name\": \"qubex_server.tool.device_info_generator\", \"levelname\": \"DEBUG\", \"message\": \"Mapped physical qubit 5 to virtual qubit 0\"}\n",
      "{\"asctime\": \"2025-02-10 12:34:33,656\", \"name\": \"qubex_server.tool.device_info_generator\", \"levelname\": \"DEBUG\", \"message\": \"Mapped physical qubit 5 to virtual qubit 0\"}\n",
      "{\"asctime\": \"2025-02-10 12:34:33,657\", \"name\": \"qubex_server.tool.device_info_generator\", \"levelname\": \"DEBUG\", \"message\": \"Mapped physical qubit 7 to virtual qubit 1\"}\n",
      "{\"asctime\": \"2025-02-10 12:34:33,657\", \"name\": \"qubex_server.tool.device_info_generator\", \"levelname\": \"DEBUG\", \"message\": \"Mapped physical qubit 7 to virtual qubit 1\"}\n",
      "{\"asctime\": \"2025-02-10 12:34:33,657\", \"name\": \"qubex_server.tool.device_info_generator\", \"levelname\": \"INFO\", \"message\": \"Physical node 8 not available in the real machine.\"}\n",
      "{\"asctime\": \"2025-02-10 12:34:33,657\", \"name\": \"qubex_server.tool.device_info_generator\", \"levelname\": \"INFO\", \"message\": \"Physical node 8 not available in the real machine.\"}\n",
      "{\"asctime\": \"2025-02-10 12:34:33,658\", \"name\": \"qubex_server.tool.device_info_generator\", \"levelname\": \"INFO\", \"message\": \"Physical node 10 not available in the real machine.\"}\n",
      "{\"asctime\": \"2025-02-10 12:34:33,658\", \"name\": \"qubex_server.tool.device_info_generator\", \"levelname\": \"INFO\", \"message\": \"Physical node 10 not available in the real machine.\"}\n",
      "{\"asctime\": \"2025-02-10 12:34:33,658\", \"name\": \"qubex_server.tool.device_info_generator\", \"levelname\": \"INFO\", \"message\": \"Physical node 9 not available in the real machine.\"}\n",
      "{\"asctime\": \"2025-02-10 12:34:33,658\", \"name\": \"qubex_server.tool.device_info_generator\", \"levelname\": \"INFO\", \"message\": \"Physical node 9 not available in the real machine.\"}\n",
      "{\"asctime\": \"2025-02-10 12:34:33,659\", \"name\": \"qubex_server.tool.device_info_generator\", \"levelname\": \"INFO\", \"message\": \"Physical node 11 not available in the real machine.\"}\n",
      "{\"asctime\": \"2025-02-10 12:34:33,659\", \"name\": \"qubex_server.tool.device_info_generator\", \"levelname\": \"INFO\", \"message\": \"Physical node 11 not available in the real machine.\"}\n",
      "{\"asctime\": \"2025-02-10 12:34:33,659\", \"name\": \"qubex_server.tool.device_info_generator\", \"levelname\": \"INFO\", \"message\": \"Physical node 12 not available in the real machine.\"}\n",
      "{\"asctime\": \"2025-02-10 12:34:33,659\", \"name\": \"qubex_server.tool.device_info_generator\", \"levelname\": \"INFO\", \"message\": \"Physical node 12 not available in the real machine.\"}\n",
      "{\"asctime\": \"2025-02-10 12:34:33,660\", \"name\": \"qubex_server.tool.device_info_generator\", \"levelname\": \"INFO\", \"message\": \"Physical node 14 not available in the real machine.\"}\n",
      "{\"asctime\": \"2025-02-10 12:34:33,660\", \"name\": \"qubex_server.tool.device_info_generator\", \"levelname\": \"INFO\", \"message\": \"Physical node 14 not available in the real machine.\"}\n",
      "{\"asctime\": \"2025-02-10 12:34:33,660\", \"name\": \"qubex_server.tool.device_info_generator\", \"levelname\": \"INFO\", \"message\": \"Physical node 13 not available in the real machine.\"}\n",
      "{\"asctime\": \"2025-02-10 12:34:33,660\", \"name\": \"qubex_server.tool.device_info_generator\", \"levelname\": \"INFO\", \"message\": \"Physical node 13 not available in the real machine.\"}\n",
      "{\"asctime\": \"2025-02-10 12:34:33,660\", \"name\": \"qubex_server.tool.device_info_generator\", \"levelname\": \"INFO\", \"message\": \"Physical node 15 not available in the real machine.\"}\n",
      "{\"asctime\": \"2025-02-10 12:34:33,660\", \"name\": \"qubex_server.tool.device_info_generator\", \"levelname\": \"INFO\", \"message\": \"Physical node 15 not available in the real machine.\"}\n",
      "{\"asctime\": \"2025-02-10 12:34:33,661\", \"name\": \"qubex_server.tool.device_info_generator\", \"levelname\": \"INFO\", \"message\": \"Physical node 16 not available in the real machine.\"}\n",
      "{\"asctime\": \"2025-02-10 12:34:33,661\", \"name\": \"qubex_server.tool.device_info_generator\", \"levelname\": \"INFO\", \"message\": \"Physical node 16 not available in the real machine.\"}\n",
      "{\"asctime\": \"2025-02-10 12:34:33,661\", \"name\": \"qubex_server.tool.device_info_generator\", \"levelname\": \"INFO\", \"message\": \"Physical node 17 not available in the real machine.\"}\n",
      "{\"asctime\": \"2025-02-10 12:34:33,661\", \"name\": \"qubex_server.tool.device_info_generator\", \"levelname\": \"INFO\", \"message\": \"Physical node 17 not available in the real machine.\"}\n",
      "{\"asctime\": \"2025-02-10 12:34:33,662\", \"name\": \"qubex_server.tool.device_info_generator\", \"levelname\": \"INFO\", \"message\": \"Physical node 20 not available in the real machine.\"}\n",
      "{\"asctime\": \"2025-02-10 12:34:33,662\", \"name\": \"qubex_server.tool.device_info_generator\", \"levelname\": \"INFO\", \"message\": \"Physical node 20 not available in the real machine.\"}\n",
      "{\"asctime\": \"2025-02-10 12:34:33,662\", \"name\": \"qubex_server.tool.device_info_generator\", \"levelname\": \"INFO\", \"message\": \"Physical node 21 not available in the real machine.\"}\n",
      "{\"asctime\": \"2025-02-10 12:34:33,662\", \"name\": \"qubex_server.tool.device_info_generator\", \"levelname\": \"INFO\", \"message\": \"Physical node 21 not available in the real machine.\"}\n",
      "{\"asctime\": \"2025-02-10 12:34:33,663\", \"name\": \"qubex_server.tool.device_info_generator\", \"levelname\": \"INFO\", \"message\": \"Physical node 24 not available in the real machine.\"}\n",
      "{\"asctime\": \"2025-02-10 12:34:33,663\", \"name\": \"qubex_server.tool.device_info_generator\", \"levelname\": \"INFO\", \"message\": \"Physical node 24 not available in the real machine.\"}\n",
      "{\"asctime\": \"2025-02-10 12:34:33,663\", \"name\": \"qubex_server.tool.device_info_generator\", \"levelname\": \"INFO\", \"message\": \"Physical node 25 not available in the real machine.\"}\n",
      "{\"asctime\": \"2025-02-10 12:34:33,663\", \"name\": \"qubex_server.tool.device_info_generator\", \"levelname\": \"INFO\", \"message\": \"Physical node 25 not available in the real machine.\"}\n",
      "{\"asctime\": \"2025-02-10 12:34:33,664\", \"name\": \"qubex_server.tool.device_info_generator\", \"levelname\": \"INFO\", \"message\": \"Physical node 28 not available in the real machine.\"}\n",
      "{\"asctime\": \"2025-02-10 12:34:33,664\", \"name\": \"qubex_server.tool.device_info_generator\", \"levelname\": \"INFO\", \"message\": \"Physical node 28 not available in the real machine.\"}\n",
      "{\"asctime\": \"2025-02-10 12:34:33,664\", \"name\": \"qubex_server.tool.device_info_generator\", \"levelname\": \"INFO\", \"message\": \"Physical node 29 not available in the real machine.\"}\n",
      "{\"asctime\": \"2025-02-10 12:34:33,664\", \"name\": \"qubex_server.tool.device_info_generator\", \"levelname\": \"INFO\", \"message\": \"Physical node 29 not available in the real machine.\"}\n",
      "{\"asctime\": \"2025-02-10 12:34:33,665\", \"name\": \"qubex_server.tool.device_info_generator\", \"levelname\": \"INFO\", \"message\": \"Physical node 18 not available in the real machine.\"}\n",
      "{\"asctime\": \"2025-02-10 12:34:33,665\", \"name\": \"qubex_server.tool.device_info_generator\", \"levelname\": \"INFO\", \"message\": \"Physical node 18 not available in the real machine.\"}\n",
      "{\"asctime\": \"2025-02-10 12:34:33,665\", \"name\": \"qubex_server.tool.device_info_generator\", \"levelname\": \"INFO\", \"message\": \"Physical node 19 not available in the real machine.\"}\n",
      "{\"asctime\": \"2025-02-10 12:34:33,665\", \"name\": \"qubex_server.tool.device_info_generator\", \"levelname\": \"INFO\", \"message\": \"Physical node 19 not available in the real machine.\"}\n",
      "{\"asctime\": \"2025-02-10 12:34:33,666\", \"name\": \"qubex_server.tool.device_info_generator\", \"levelname\": \"INFO\", \"message\": \"Physical node 22 not available in the real machine.\"}\n",
      "{\"asctime\": \"2025-02-10 12:34:33,666\", \"name\": \"qubex_server.tool.device_info_generator\", \"levelname\": \"INFO\", \"message\": \"Physical node 22 not available in the real machine.\"}\n",
      "{\"asctime\": \"2025-02-10 12:34:33,666\", \"name\": \"qubex_server.tool.device_info_generator\", \"levelname\": \"INFO\", \"message\": \"Physical node 23 not available in the real machine.\"}\n",
      "{\"asctime\": \"2025-02-10 12:34:33,666\", \"name\": \"qubex_server.tool.device_info_generator\", \"levelname\": \"INFO\", \"message\": \"Physical node 23 not available in the real machine.\"}\n",
      "{\"asctime\": \"2025-02-10 12:34:33,667\", \"name\": \"qubex_server.tool.device_info_generator\", \"levelname\": \"INFO\", \"message\": \"Physical node 26 not available in the real machine.\"}\n",
      "{\"asctime\": \"2025-02-10 12:34:33,667\", \"name\": \"qubex_server.tool.device_info_generator\", \"levelname\": \"INFO\", \"message\": \"Physical node 26 not available in the real machine.\"}\n",
      "{\"asctime\": \"2025-02-10 12:34:33,667\", \"name\": \"qubex_server.tool.device_info_generator\", \"levelname\": \"INFO\", \"message\": \"Physical node 27 not available in the real machine.\"}\n",
      "{\"asctime\": \"2025-02-10 12:34:33,667\", \"name\": \"qubex_server.tool.device_info_generator\", \"levelname\": \"INFO\", \"message\": \"Physical node 27 not available in the real machine.\"}\n",
      "{\"asctime\": \"2025-02-10 12:34:33,667\", \"name\": \"qubex_server.tool.device_info_generator\", \"levelname\": \"INFO\", \"message\": \"Physical node 30 not available in the real machine.\"}\n",
      "{\"asctime\": \"2025-02-10 12:34:33,667\", \"name\": \"qubex_server.tool.device_info_generator\", \"levelname\": \"INFO\", \"message\": \"Physical node 30 not available in the real machine.\"}\n",
      "{\"asctime\": \"2025-02-10 12:34:33,668\", \"name\": \"qubex_server.tool.device_info_generator\", \"levelname\": \"INFO\", \"message\": \"Physical node 31 not available in the real machine.\"}\n",
      "{\"asctime\": \"2025-02-10 12:34:33,668\", \"name\": \"qubex_server.tool.device_info_generator\", \"levelname\": \"INFO\", \"message\": \"Physical node 31 not available in the real machine.\"}\n",
      "{\"asctime\": \"2025-02-10 12:34:33,668\", \"name\": \"qubex_server.tool.device_info_generator\", \"levelname\": \"INFO\", \"message\": \"Physical node 32 not available in the real machine.\"}\n",
      "{\"asctime\": \"2025-02-10 12:34:33,668\", \"name\": \"qubex_server.tool.device_info_generator\", \"levelname\": \"INFO\", \"message\": \"Physical node 32 not available in the real machine.\"}\n",
      "{\"asctime\": \"2025-02-10 12:34:33,669\", \"name\": \"qubex_server.tool.device_info_generator\", \"levelname\": \"INFO\", \"message\": \"Physical node 33 not available in the real machine.\"}\n",
      "{\"asctime\": \"2025-02-10 12:34:33,669\", \"name\": \"qubex_server.tool.device_info_generator\", \"levelname\": \"INFO\", \"message\": \"Physical node 33 not available in the real machine.\"}\n",
      "{\"asctime\": \"2025-02-10 12:34:33,669\", \"name\": \"qubex_server.tool.device_info_generator\", \"levelname\": \"INFO\", \"message\": \"Physical node 36 not available in the real machine.\"}\n",
      "{\"asctime\": \"2025-02-10 12:34:33,669\", \"name\": \"qubex_server.tool.device_info_generator\", \"levelname\": \"INFO\", \"message\": \"Physical node 36 not available in the real machine.\"}\n",
      "{\"asctime\": \"2025-02-10 12:34:33,670\", \"name\": \"qubex_server.tool.device_info_generator\", \"levelname\": \"INFO\", \"message\": \"Physical node 37 not available in the real machine.\"}\n",
      "{\"asctime\": \"2025-02-10 12:34:33,670\", \"name\": \"qubex_server.tool.device_info_generator\", \"levelname\": \"INFO\", \"message\": \"Physical node 37 not available in the real machine.\"}\n",
      "{\"asctime\": \"2025-02-10 12:34:33,670\", \"name\": \"qubex_server.tool.device_info_generator\", \"levelname\": \"INFO\", \"message\": \"Physical node 40 not available in the real machine.\"}\n",
      "{\"asctime\": \"2025-02-10 12:34:33,670\", \"name\": \"qubex_server.tool.device_info_generator\", \"levelname\": \"INFO\", \"message\": \"Physical node 40 not available in the real machine.\"}\n",
      "{\"asctime\": \"2025-02-10 12:34:33,671\", \"name\": \"qubex_server.tool.device_info_generator\", \"levelname\": \"INFO\", \"message\": \"Physical node 41 not available in the real machine.\"}\n",
      "{\"asctime\": \"2025-02-10 12:34:33,671\", \"name\": \"qubex_server.tool.device_info_generator\", \"levelname\": \"INFO\", \"message\": \"Physical node 41 not available in the real machine.\"}\n",
      "{\"asctime\": \"2025-02-10 12:34:33,671\", \"name\": \"qubex_server.tool.device_info_generator\", \"levelname\": \"INFO\", \"message\": \"Physical node 44 not available in the real machine.\"}\n",
      "{\"asctime\": \"2025-02-10 12:34:33,671\", \"name\": \"qubex_server.tool.device_info_generator\", \"levelname\": \"INFO\", \"message\": \"Physical node 44 not available in the real machine.\"}\n",
      "{\"asctime\": \"2025-02-10 12:34:33,672\", \"name\": \"qubex_server.tool.device_info_generator\", \"levelname\": \"INFO\", \"message\": \"Physical node 45 not available in the real machine.\"}\n",
      "{\"asctime\": \"2025-02-10 12:34:33,672\", \"name\": \"qubex_server.tool.device_info_generator\", \"levelname\": \"INFO\", \"message\": \"Physical node 45 not available in the real machine.\"}\n",
      "{\"asctime\": \"2025-02-10 12:34:33,674\", \"name\": \"qubex_server.tool.device_info_generator\", \"levelname\": \"INFO\", \"message\": \"Physical node 34 not available in the real machine.\"}\n",
      "{\"asctime\": \"2025-02-10 12:34:33,674\", \"name\": \"qubex_server.tool.device_info_generator\", \"levelname\": \"INFO\", \"message\": \"Physical node 34 not available in the real machine.\"}\n",
      "{\"asctime\": \"2025-02-10 12:34:33,675\", \"name\": \"qubex_server.tool.device_info_generator\", \"levelname\": \"INFO\", \"message\": \"Physical node 35 not available in the real machine.\"}\n",
      "{\"asctime\": \"2025-02-10 12:34:33,675\", \"name\": \"qubex_server.tool.device_info_generator\", \"levelname\": \"INFO\", \"message\": \"Physical node 35 not available in the real machine.\"}\n",
      "{\"asctime\": \"2025-02-10 12:34:33,675\", \"name\": \"qubex_server.tool.device_info_generator\", \"levelname\": \"INFO\", \"message\": \"Physical node 38 not available in the real machine.\"}\n",
      "{\"asctime\": \"2025-02-10 12:34:33,675\", \"name\": \"qubex_server.tool.device_info_generator\", \"levelname\": \"INFO\", \"message\": \"Physical node 38 not available in the real machine.\"}\n",
      "{\"asctime\": \"2025-02-10 12:34:33,676\", \"name\": \"qubex_server.tool.device_info_generator\", \"levelname\": \"INFO\", \"message\": \"Physical node 39 not available in the real machine.\"}\n",
      "{\"asctime\": \"2025-02-10 12:34:33,676\", \"name\": \"qubex_server.tool.device_info_generator\", \"levelname\": \"INFO\", \"message\": \"Physical node 39 not available in the real machine.\"}\n",
      "{\"asctime\": \"2025-02-10 12:34:33,676\", \"name\": \"qubex_server.tool.device_info_generator\", \"levelname\": \"INFO\", \"message\": \"Physical node 42 not available in the real machine.\"}\n",
      "{\"asctime\": \"2025-02-10 12:34:33,676\", \"name\": \"qubex_server.tool.device_info_generator\", \"levelname\": \"INFO\", \"message\": \"Physical node 42 not available in the real machine.\"}\n",
      "{\"asctime\": \"2025-02-10 12:34:33,677\", \"name\": \"qubex_server.tool.device_info_generator\", \"levelname\": \"INFO\", \"message\": \"Physical node 43 not available in the real machine.\"}\n",
      "{\"asctime\": \"2025-02-10 12:34:33,677\", \"name\": \"qubex_server.tool.device_info_generator\", \"levelname\": \"INFO\", \"message\": \"Physical node 43 not available in the real machine.\"}\n",
      "{\"asctime\": \"2025-02-10 12:34:33,677\", \"name\": \"qubex_server.tool.device_info_generator\", \"levelname\": \"INFO\", \"message\": \"Physical node 46 not available in the real machine.\"}\n",
      "{\"asctime\": \"2025-02-10 12:34:33,677\", \"name\": \"qubex_server.tool.device_info_generator\", \"levelname\": \"INFO\", \"message\": \"Physical node 46 not available in the real machine.\"}\n",
      "{\"asctime\": \"2025-02-10 12:34:33,677\", \"name\": \"qubex_server.tool.device_info_generator\", \"levelname\": \"INFO\", \"message\": \"Physical node 47 not available in the real machine.\"}\n",
      "{\"asctime\": \"2025-02-10 12:34:33,677\", \"name\": \"qubex_server.tool.device_info_generator\", \"levelname\": \"INFO\", \"message\": \"Physical node 47 not available in the real machine.\"}\n",
      "{\"asctime\": \"2025-02-10 12:34:33,678\", \"name\": \"qubex_server.tool.device_info_generator\", \"levelname\": \"INFO\", \"message\": \"Physical node 48 not available in the real machine.\"}\n",
      "{\"asctime\": \"2025-02-10 12:34:33,678\", \"name\": \"qubex_server.tool.device_info_generator\", \"levelname\": \"INFO\", \"message\": \"Physical node 48 not available in the real machine.\"}\n",
      "{\"asctime\": \"2025-02-10 12:34:33,678\", \"name\": \"qubex_server.tool.device_info_generator\", \"levelname\": \"INFO\", \"message\": \"Physical node 49 not available in the real machine.\"}\n",
      "{\"asctime\": \"2025-02-10 12:34:33,678\", \"name\": \"qubex_server.tool.device_info_generator\", \"levelname\": \"INFO\", \"message\": \"Physical node 49 not available in the real machine.\"}\n",
      "{\"asctime\": \"2025-02-10 12:34:33,679\", \"name\": \"qubex_server.tool.device_info_generator\", \"levelname\": \"INFO\", \"message\": \"Physical node 52 not available in the real machine.\"}\n",
      "{\"asctime\": \"2025-02-10 12:34:33,679\", \"name\": \"qubex_server.tool.device_info_generator\", \"levelname\": \"INFO\", \"message\": \"Physical node 52 not available in the real machine.\"}\n",
      "{\"asctime\": \"2025-02-10 12:34:33,679\", \"name\": \"qubex_server.tool.device_info_generator\", \"levelname\": \"INFO\", \"message\": \"Physical node 53 not available in the real machine.\"}\n",
      "{\"asctime\": \"2025-02-10 12:34:33,679\", \"name\": \"qubex_server.tool.device_info_generator\", \"levelname\": \"INFO\", \"message\": \"Physical node 53 not available in the real machine.\"}\n",
      "{\"asctime\": \"2025-02-10 12:34:33,680\", \"name\": \"qubex_server.tool.device_info_generator\", \"levelname\": \"INFO\", \"message\": \"Physical node 56 not available in the real machine.\"}\n",
      "{\"asctime\": \"2025-02-10 12:34:33,680\", \"name\": \"qubex_server.tool.device_info_generator\", \"levelname\": \"INFO\", \"message\": \"Physical node 56 not available in the real machine.\"}\n",
      "{\"asctime\": \"2025-02-10 12:34:33,680\", \"name\": \"qubex_server.tool.device_info_generator\", \"levelname\": \"INFO\", \"message\": \"Physical node 57 not available in the real machine.\"}\n",
      "{\"asctime\": \"2025-02-10 12:34:33,680\", \"name\": \"qubex_server.tool.device_info_generator\", \"levelname\": \"INFO\", \"message\": \"Physical node 57 not available in the real machine.\"}\n",
      "{\"asctime\": \"2025-02-10 12:34:33,681\", \"name\": \"qubex_server.tool.device_info_generator\", \"levelname\": \"INFO\", \"message\": \"Physical node 60 not available in the real machine.\"}\n",
      "{\"asctime\": \"2025-02-10 12:34:33,681\", \"name\": \"qubex_server.tool.device_info_generator\", \"levelname\": \"INFO\", \"message\": \"Physical node 60 not available in the real machine.\"}\n",
      "{\"asctime\": \"2025-02-10 12:34:33,681\", \"name\": \"qubex_server.tool.device_info_generator\", \"levelname\": \"INFO\", \"message\": \"Physical node 61 not available in the real machine.\"}\n",
      "{\"asctime\": \"2025-02-10 12:34:33,681\", \"name\": \"qubex_server.tool.device_info_generator\", \"levelname\": \"INFO\", \"message\": \"Physical node 61 not available in the real machine.\"}\n",
      "{\"asctime\": \"2025-02-10 12:34:33,682\", \"name\": \"qubex_server.tool.device_info_generator\", \"levelname\": \"INFO\", \"message\": \"Physical node 50 not available in the real machine.\"}\n",
      "{\"asctime\": \"2025-02-10 12:34:33,682\", \"name\": \"qubex_server.tool.device_info_generator\", \"levelname\": \"INFO\", \"message\": \"Physical node 50 not available in the real machine.\"}\n",
      "{\"asctime\": \"2025-02-10 12:34:33,682\", \"name\": \"qubex_server.tool.device_info_generator\", \"levelname\": \"INFO\", \"message\": \"Physical node 51 not available in the real machine.\"}\n",
      "{\"asctime\": \"2025-02-10 12:34:33,682\", \"name\": \"qubex_server.tool.device_info_generator\", \"levelname\": \"INFO\", \"message\": \"Physical node 51 not available in the real machine.\"}\n",
      "{\"asctime\": \"2025-02-10 12:34:33,682\", \"name\": \"qubex_server.tool.device_info_generator\", \"levelname\": \"INFO\", \"message\": \"Physical node 54 not available in the real machine.\"}\n",
      "{\"asctime\": \"2025-02-10 12:34:33,682\", \"name\": \"qubex_server.tool.device_info_generator\", \"levelname\": \"INFO\", \"message\": \"Physical node 54 not available in the real machine.\"}\n",
      "{\"asctime\": \"2025-02-10 12:34:33,686\", \"name\": \"qubex_server.tool.device_info_generator\", \"levelname\": \"INFO\", \"message\": \"Physical node 55 not available in the real machine.\"}\n",
      "{\"asctime\": \"2025-02-10 12:34:33,686\", \"name\": \"qubex_server.tool.device_info_generator\", \"levelname\": \"INFO\", \"message\": \"Physical node 55 not available in the real machine.\"}\n",
      "{\"asctime\": \"2025-02-10 12:34:33,687\", \"name\": \"qubex_server.tool.device_info_generator\", \"levelname\": \"INFO\", \"message\": \"Physical node 58 not available in the real machine.\"}\n",
      "{\"asctime\": \"2025-02-10 12:34:33,687\", \"name\": \"qubex_server.tool.device_info_generator\", \"levelname\": \"INFO\", \"message\": \"Physical node 58 not available in the real machine.\"}\n",
      "{\"asctime\": \"2025-02-10 12:34:33,687\", \"name\": \"qubex_server.tool.device_info_generator\", \"levelname\": \"INFO\", \"message\": \"Physical node 59 not available in the real machine.\"}\n",
      "{\"asctime\": \"2025-02-10 12:34:33,687\", \"name\": \"qubex_server.tool.device_info_generator\", \"levelname\": \"INFO\", \"message\": \"Physical node 59 not available in the real machine.\"}\n",
      "{\"asctime\": \"2025-02-10 12:34:33,688\", \"name\": \"qubex_server.tool.device_info_generator\", \"levelname\": \"INFO\", \"message\": \"Physical node 62 not available in the real machine.\"}\n",
      "{\"asctime\": \"2025-02-10 12:34:33,688\", \"name\": \"qubex_server.tool.device_info_generator\", \"levelname\": \"INFO\", \"message\": \"Physical node 62 not available in the real machine.\"}\n",
      "{\"asctime\": \"2025-02-10 12:34:33,688\", \"name\": \"qubex_server.tool.device_info_generator\", \"levelname\": \"INFO\", \"message\": \"Physical node 63 not available in the real machine.\"}\n",
      "{\"asctime\": \"2025-02-10 12:34:33,688\", \"name\": \"qubex_server.tool.device_info_generator\", \"levelname\": \"INFO\", \"message\": \"Physical node 63 not available in the real machine.\"}\n",
      "{\"asctime\": \"2025-02-10 12:34:33,689\", \"name\": \"qubex_server.tool.device_info_generator\", \"levelname\": \"DEBUG\", \"message\": \"Mapped virtual qubit 0 to physical qubit 5\"}\n",
      "{\"asctime\": \"2025-02-10 12:34:33,689\", \"name\": \"qubex_server.tool.device_info_generator\", \"levelname\": \"DEBUG\", \"message\": \"Mapped virtual qubit 0 to physical qubit 5\"}\n",
      "{\"asctime\": \"2025-02-10 12:34:33,690\", \"name\": \"qubex_server.tool.device_info_generator\", \"levelname\": \"INFO\", \"message\": \"Qubit 0 is not calibrated.\"}\n",
      "{\"asctime\": \"2025-02-10 12:34:33,690\", \"name\": \"qubex_server.tool.device_info_generator\", \"levelname\": \"INFO\", \"message\": \"Qubit 0 is not calibrated.\"}\n",
      "{\"asctime\": \"2025-02-10 12:34:33,691\", \"name\": \"qubex_server.tool.device_info_generator\", \"levelname\": \"DEBUG\", \"message\": \"Mapped virtual qubit 1 to physical qubit 7\"}\n",
      "{\"asctime\": \"2025-02-10 12:34:33,691\", \"name\": \"qubex_server.tool.device_info_generator\", \"levelname\": \"DEBUG\", \"message\": \"Mapped virtual qubit 1 to physical qubit 7\"}\n",
      "{\"asctime\": \"2025-02-10 12:34:33,692\", \"name\": \"qubex_server.tool.device_info_generator\", \"levelname\": \"INFO\", \"message\": \"Qubit 1 is not calibrated.\"}\n",
      "{\"asctime\": \"2025-02-10 12:34:33,692\", \"name\": \"qubex_server.tool.device_info_generator\", \"levelname\": \"INFO\", \"message\": \"Qubit 1 is not calibrated.\"}\n",
      "{\"asctime\": \"2025-02-10 12:34:33,692\", \"name\": \"qubex_server.tool.device_info_generator\", \"levelname\": \"DEBUG\", \"message\": \"Mapped virtual qubit 0 to physical qubit 5\"}\n",
      "{\"asctime\": \"2025-02-10 12:34:33,692\", \"name\": \"qubex_server.tool.device_info_generator\", \"levelname\": \"DEBUG\", \"message\": \"Mapped virtual qubit 0 to physical qubit 5\"}\n",
      "{\"asctime\": \"2025-02-10 12:34:33,692\", \"name\": \"qubex_server.tool.device_info_generator\", \"levelname\": \"DEBUG\", \"message\": \"Mapped virtual qubit 1 to physical qubit 7\"}\n",
      "{\"asctime\": \"2025-02-10 12:34:33,692\", \"name\": \"qubex_server.tool.device_info_generator\", \"levelname\": \"DEBUG\", \"message\": \"Mapped virtual qubit 1 to physical qubit 7\"}\n",
      "{\n",
      "  \"name\": \"test_device\",\n",
      "  \"device_id\": \"1\",\n",
      "  \"qubits\": [\n",
      "    {\n",
      "      \"id\": 0,\n",
      "      \"physical_id\": 5,\n",
      "      \"position\": {\n",
      "        \"x\": 3,\n",
      "        \"y\": 0\n",
      "      },\n",
      "      \"fidelity\": 0.0,\n",
      "      \"meas_error\": {\n",
      "        \"prob_meas1_prep0\": 0.0,\n",
      "        \"prob_meas0_prep1\": 0.0\n",
      "      },\n",
      "      \"qubit_lifetime\": {\n",
      "        \"t1\": 0.0,\n",
      "        \"t2\": 0.0\n",
      "      },\n",
      "      \"gate_duration\": {\n",
      "        \"rz\": 0,\n",
      "        \"sx\": 0,\n",
      "        \"x\": 0\n",
      "      }\n",
      "    },\n",
      "    {\n",
      "      \"id\": 1,\n",
      "      \"physical_id\": 7,\n",
      "      \"position\": {\n",
      "        \"x\": 3,\n",
      "        \"y\": -1\n",
      "      },\n",
      "      \"fidelity\": 0.0,\n",
      "      \"meas_error\": {\n",
      "        \"prob_meas1_prep0\": 0.0,\n",
      "        \"prob_meas0_prep1\": 0.0\n",
      "      },\n",
      "      \"qubit_lifetime\": {\n",
      "        \"t1\": 0.0,\n",
      "        \"t2\": 0.0\n",
      "      },\n",
      "      \"gate_duration\": {\n",
      "        \"rz\": 0,\n",
      "        \"sx\": 0,\n",
      "        \"x\": 0\n",
      "      }\n",
      "    }\n",
      "  ],\n",
      "  \"couplings\": [\n",
      "    {\n",
      "      \"control\": 0,\n",
      "      \"target\": 1,\n",
      "      \"fidelity\": 0.0,\n",
      "      \"gate_duration\": {\n",
      "        \"cx\": 0,\n",
      "        \"rzx90\": 0\n",
      "      }\n",
      "    }\n",
      "  ],\n",
      "  \"timestamp\": \"2025-02-10 12:34:33.693343\"\n",
      "}\n"
     ]
    }
   ],
   "source": [
    "from qubex_server.tool.device_info_generator import DeviceInfoGenerator\n",
    "import json\n",
    "system_note = {\n",
    "    \"rabi_params\": {\n",
    "        \"Q05\": {\n",
    "            \"target\": \"Q05\",\n",
    "            \"amplitude\": 0.0006267143810375026,\n",
    "            \"frequency\": 0.012533394221336326,\n",
    "            \"phase\": 0.007392521708288216,\n",
    "            \"offset\": 2.0594617070198232e-05,\n",
    "            \"noise\": 1.8267412087880075e-05,\n",
    "            \"angle\": 1.1571397642281394\n",
    "        },\n",
    "        \"Q07\": {\n",
    "            \"target\": \"Q07\",\n",
    "            \"amplitude\": 0.0004644605389426793,\n",
    "            \"frequency\": 0.012394733955482299,\n",
    "            \"phase\": 4.747606963866145e-16,\n",
    "            \"offset\": 0.00011189875418757852,\n",
    "            \"noise\": 1.822155354602728e-05,\n",
    "            \"angle\": 0.08460576931503816\n",
    "        }\n",
    "    },\n",
    "    \"hpi_amplitude\": {\n",
    "        \"Q05\": 0.03222735419307999,\n",
    "        \"Q07\": 0.031300036602379115\n",
    "    },\n",
    "    \"pi_amplitude\": {\n",
    "        \"Q05\": 0.06459660148598322,\n",
    "        \"Q07\": 0.06261284021277519\n",
    "    },\n",
    "    \"drag_hpi_amplitude\": {\n",
    "        \"Q05\": 0.0633532419144596,\n",
    "        \"Q07\": 0.0615374495783637\n",
    "    },\n",
    "    \"drag_hpi_beta\": {\n",
    "        \"Q05\": 0.015885015780541144,\n",
    "        \"Q07\": 0.016355123259324242\n",
    "    },\n",
    "    \"readout\": {\n",
    "        \"Q05\": {\n",
    "            \"prob_meas1_prep0\": 0.027100000000000013,\n",
    "            \"prob_meas0_prep1\": 0.07330000000000003,\n",
    "            \"readout_assignment_error\": 0.05020000000000002\n",
    "        },\n",
    "        \"Q07\": {\n",
    "            \"prob_meas1_prep0\": 0.07750000000000001,\n",
    "            \"prob_meas0_prep1\": 0.14349999999999996,\n",
    "            \"readout_assignment_error\": 0.11049999999999999\n",
    "        }\n",
    "    },\n",
    "    \"drag_pi_amplitude\": {\n",
    "        \"Q05\": 0.1267184127106755,\n",
    "        \"Q07\": 0.12318916752236997\n",
    "    },\n",
    "    \"t1\": {\n",
    "        \"Q05\": 33651.29377784319,\n",
    "        \"Q07\": 37710.45190339458\n",
    "    },\n",
    "    \"t2\": {\n",
    "        \"Q05\": 13564.51441820196,\n",
    "        \"Q07\": 14987.160579164993\n",
    "    },\n",
    "    \"drag_pi_beta\": {\n",
    "        \"Q05\": 0.05854952782022226,\n",
    "        \"Q07\": 0.05192075101352983\n",
    "    },\n",
    "    \"average_gate_fidelity\": {\n",
    "        \"Q05\": 0.9918851304622052,\n",
    "        \"Q07\": 0.9846660644648102\n",
    "    },\n",
    "    \"state_centers\": {\n",
    "        \"Q05\": {\n",
    "            \"0\": [\n",
    "                -0.00014560583251768759,\n",
    "                0.001344162972404538\n",
    "            ],\n",
    "            \"1\": [\n",
    "                0.0011018202308197998,\n",
    "                0.0008177941447132453\n",
    "            ]\n",
    "        },\n",
    "        \"Q07\": {\n",
    "            \"0\": [\n",
    "                0.0017068183408319047,\n",
    "                0.0007931736961419366\n",
    "            ],\n",
    "            \"1\": [\n",
    "                0.0018006838672870744,\n",
    "                -0.00024733272600080956\n",
    "            ]\n",
    "        }\n",
    "    },\n",
    "    \"cr_params\": {\n",
    "        \"Q05-Q07\": {\n",
    "            \"cr_pulse\": {\n",
    "                \"amplitude\": 0.5808321524748724,\n",
    "                \"phase\": 1.7314353175117436\n",
    "            },\n",
    "            \"cancel_pulse\": {\n",
    "                \"amplitude\": 0.0016369405419985731,\n",
    "                \"phase\": -1.9782518172454107\n",
    "            },\n",
    "            \"cr_cancel_ratio\": 0.0028182677818776388,\n",
    "            \"duration\": 100,\n",
    "            \"ramptime\": 40,\n",
    "            \"average_gate_fidelity\": 0.9928444637756858\n",
    "        }\n",
    "    }\n",
    "}\n",
    "\n",
    "generator = DeviceInfoGenerator(\n",
    "\tdevice_id=\"1\",\n",
    "\tbasis_gates_1q=[\"rz\", \"sx\", \"x\"],\n",
    "\tbasis_gates_2q=[\"cx\", \"rzx90\"],\n",
    "\tqubit_index_list=[5,7],\n",
    "\tsystem_note=system_note\n",
    ")\n",
    "generator.generate_device_topology()\n",
    "oqtopus_device = generator.dump_topology_dict()\n",
    "print(json.dumps(oqtopus_device, indent=2))\n",
    "\n"
   ]
  },
  {
   "cell_type": "code",
   "execution_count": 16,
   "metadata": {},
   "outputs": [
    {
     "data": {
      "text/html": [
       "<pre style=\"word-wrap: normal;white-space: pre;background: #fff0;line-height: 1.1;font-family: &quot;Courier New&quot;,Courier,monospace\">     ┌───┐     \n",
       "q_0: ┤ H ├──■──\n",
       "     └───┘┌─┴─┐\n",
       "q_1: ─────┤ X ├\n",
       "          └───┘</pre>"
      ],
      "text/plain": [
       "     ┌───┐     \n",
       "q_0: ┤ H ├──■──\n",
       "     └───┘┌─┴─┐\n",
       "q_1: ─────┤ X ├\n",
       "          └───┘"
      ]
     },
     "execution_count": 16,
     "metadata": {},
     "output_type": "execute_result"
    }
   ],
   "source": [
    "from qiskit import QuantumCircuit\n",
    "qc = QuantumCircuit(2)\n",
    "qc.h(0)\n",
    "qc.cx(0, 1)\n",
    "qc.draw()"
   ]
  },
  {
   "cell_type": "markdown",
   "metadata": {},
   "source": [
    "## Transpile with Tranqu"
   ]
  },
  {
   "cell_type": "code",
   "execution_count": 17,
   "metadata": {},
   "outputs": [
    {
     "name": "stdout",
     "output_type": "stream",
     "text": [
      "global phase: π/4\n",
      "         ┌─────────┐┌────┐┌─────────┐     \n",
      "q_0 -> 0 ┤ Rz(π/2) ├┤ √X ├┤ Rz(π/2) ├──■──\n",
      "         └─────────┘└────┘└─────────┘┌─┴─┐\n",
      "q_1 -> 1 ────────────────────────────┤ X ├\n",
      "                                     └───┘\n"
     ]
    }
   ],
   "source": [
    "from tranqu import Tranqu\n",
    "options = {\n",
    "    \"basis_gates\": [ \"sx\", \"x\", \"rz\", \"cx\"]\n",
    "}\n",
    "\n",
    "tranqu = Tranqu()\n",
    "result = tranqu.transpile(\n",
    "    program=qc,\n",
    "    transpiler_lib=\"qiskit\",\n",
    "    program_lib=\"qiskit\",\n",
    "    transpiler_options=options,\n",
    "    device=oqtopus_device,\n",
    "    device_lib=\"oqtopus\",\n",
    ")\n",
    "transpiled_program = result.transpiled_program\n",
    "print(transpiled_program)"
   ]
  },
  {
   "cell_type": "code",
   "execution_count": 18,
   "metadata": {},
   "outputs": [
    {
     "name": "stdout",
     "output_type": "stream",
     "text": [
      "OPENQASM 3.0;\n",
      "include \"stdgates.inc\";\n",
      "rz(pi/2) $0;\n",
      "sx $0;\n",
      "rz(pi/2) $0;\n",
      "cx $0, $1;\n",
      "\n"
     ]
    }
   ],
   "source": [
    "from qiskit.qasm3 import dumps\n",
    "qasm3 = dumps(transpiled_program)\n",
    "print(qasm3)"
   ]
  },
  {
   "cell_type": "code",
   "execution_count": 19,
   "metadata": {},
   "outputs": [],
   "source": [
    "def virtual_physical_map(device_topology_json: dict):\n",
    "\tdevice_topology = device_topology_json\n",
    "\tqubits = {\n",
    "\t\tqubit[\"id\"]: qubit[\"physical_id\"] for qubit in device_topology[\"qubits\"]\n",
    "\t}\n",
    "\tcouplings = {\n",
    "\t\t(c[\"control\"], c[\"target\"]): (qubits[c[\"control\"]], qubits[c[\"target\"]])\n",
    "\t\tfor c in device_topology[\"couplings\"]\n",
    "\t}\n",
    "\treturn {\"qubits\": qubits, \"couplings\": couplings}"
   ]
  },
  {
   "cell_type": "markdown",
   "metadata": {},
   "source": [
    "## Create virtual-physical mapping from calibration data"
   ]
  },
  {
   "cell_type": "code",
   "execution_count": 20,
   "metadata": {},
   "outputs": [
    {
     "name": "stdout",
     "output_type": "stream",
     "text": [
      "{'qubits': {0: 5, 1: 7}, 'couplings': {(0, 1): (5, 7)}}\n"
     ]
    }
   ],
   "source": [
    "_virtual_physical_map = virtual_physical_map(oqtopus_device)\n",
    "print(_virtual_physical_map)"
   ]
  },
  {
   "cell_type": "markdown",
   "metadata": {},
   "source": [
    "## Define Qulacs Backend and Load OpenQASM3"
   ]
  },
  {
   "cell_type": "code",
   "execution_count": 21,
   "metadata": {},
   "outputs": [
    {
     "name": "stdout",
     "output_type": "stream",
     "text": [
      "{\"asctime\": \"2025-02-10 12:34:35,116\", \"name\": \"qubex_server.backend.base\", \"levelname\": \"INFO\", \"message\": \"Loading QASM 3 program: OPENQASM 3.0;\\ninclude \\\"stdgates.inc\\\";\\nrz(pi/2) $0;\\nsx $0;\\nrz(pi/2) $0;\\ncx $0, $1;\\n, job_id=test_job\"}\n",
      "{\"asctime\": \"2025-02-10 12:34:35,116\", \"name\": \"qubex_server.backend.base\", \"levelname\": \"INFO\", \"message\": \"Loading QASM 3 program: OPENQASM 3.0;\\ninclude \\\"stdgates.inc\\\";\\nrz(pi/2) $0;\\nsx $0;\\nrz(pi/2) $0;\\ncx $0, $1;\\n, job_id=test_job\"}\n"
     ]
    }
   ],
   "source": [
    "from qubex_server.backend.dummy import DummyBackend\n",
    "backend = DummyBackend(virtual_physical_map=_virtual_physical_map)\n",
    "backend.load_program(qasm3)\n"
   ]
  },
  {
   "cell_type": "code",
   "execution_count": 22,
   "metadata": {},
   "outputs": [],
   "source": [
    "backend.compile()"
   ]
  },
  {
   "cell_type": "code",
   "execution_count": 23,
   "metadata": {},
   "outputs": [
    {
     "name": "stdout",
     "output_type": "stream",
     "text": [
      "{'00': 455, '01': 0, '10': 0, '11': 545}\n"
     ]
    }
   ],
   "source": [
    "result = backend.execute()\n",
    "print(backend.result)"
   ]
  },
  {
   "cell_type": "code",
   "execution_count": 24,
   "metadata": {},
   "outputs": [
    {
     "data": {
      "image/png": "[encoded data removed]",
      "text/plain": [
       "<Figure size 640x480 with 1 Axes>"
      ]
     },
     "execution_count": 24,
     "metadata": {},
     "output_type": "execute_result"
    }
   ],
   "source": [
    "backend.plot_histogram()"
   ]
  },
  {
   "cell_type": "code",
   "execution_count": null,
   "metadata": {},
   "outputs": [],
   "source": []
  },
  {
   "cell_type": "code",
   "execution_count": null,
   "metadata": {},
   "outputs": [],
   "source": []
  }
 ],
 "metadata": {
  "kernelspec": {
   "display_name": ".venv",
   "language": "python",
   "name": "python3"
  },
  "language_info": {
   "codemirror_mode": {
    "name": "ipython",
    "version": 3
   },
   "file_extension": ".py",
   "mimetype": "text/x-python",
   "name": "python",
   "nbconvert_exporter": "python",
   "pygments_lexer": "ipython3",
   "version": "3.12.3"
  }
 },
 "nbformat": 4,
 "nbformat_minor": 2
}
